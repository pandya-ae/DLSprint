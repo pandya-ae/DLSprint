{
 "cells": [
  {
   "cell_type": "markdown",
   "metadata": {},
   "source": [
    "# Your Interactive Coding Environment"
   ]
  },
  {
   "cell_type": "markdown",
   "metadata": {},
   "source": [
    "**The notebook is optional. Please read it if you are unfamiliar coding in a JupyterLab environment.**"
   ]
  },
  {
   "cell_type": "markdown",
   "metadata": {},
   "source": [
    "Before you begin programming, we would like to familiarize you with your interactive coding environment. This workshop utilizes the web-based coding interface [JupyterLab](https://jupyterlab.readthedocs.io/en/stable/) to execute code on a virtual machine backed by a [NVIDIA V100](https://www.nvidia.com/en-us/data-center/tesla-v100/) GPU accelerator. All necessary libraries have already been installed for you."
   ]
  },
  {
   "cell_type": "markdown",
   "metadata": {},
   "source": [
    "## Interactive Jupyter Code Cells"
   ]
  },
  {
   "cell_type": "markdown",
   "metadata": {},
   "source": [
    "Throughout the workshop are editable and executable cells which run Python code. Try editing and executing (shift+enter) the cell immediately below:"
   ]
  },
  {
   "cell_type": "code",
   "execution_count": 1,
   "metadata": {},
   "outputs": [
    {
     "name": "stdout",
     "output_type": "stream",
     "text": [
      "Welcome to accelerated data science.\n"
     ]
    }
   ],
   "source": [
    "print('Welcome to accelerated data science.')"
   ]
  },
  {
   "cell_type": "markdown",
   "metadata": {},
   "source": [
    "## Jupyter Notebook Organization"
   ]
  },
  {
   "cell_type": "markdown",
   "metadata": {},
   "source": [
    "This workshop is broken into many small notebooks, each with numerical prefixes. You can view all the notebooks available to you in a section of the workshop by clicking on the folder-shaped icon along the left sidebar. Alternatively, if you can already see the files, clicking on this icon will hide them, which we highly recommend you do to give yourself more space while working on the materials."
   ]
  },
  {
   "cell_type": "markdown",
   "metadata": {},
   "source": [
    "## Available GPU Accelerators"
   ]
  },
  {
   "cell_type": "markdown",
   "metadata": {},
   "source": [
    "We can use these interactive cells to run shell commands by prefixing them with `!`. For example, execute the following cell to run the shell command `nvidia-smi`, which will print information about your environment's available GPUs, their current memory usage, and any processes currently utilizing them:"
   ]
  },
  {
   "cell_type": "code",
   "execution_count": 2,
   "metadata": {},
   "outputs": [
    {
     "name": "stdout",
     "output_type": "stream",
     "text": [
      "Wed Oct 13 16:11:09 2021       \n",
      "+-----------------------------------------------------------------------------+\n",
      "| NVIDIA-SMI 440.64.00    Driver Version: 440.64.00    CUDA Version: 10.2     |\n",
      "|-------------------------------+----------------------+----------------------+\n",
      "| GPU  Name        Persistence-M| Bus-Id        Disp.A | Volatile Uncorr. ECC |\n",
      "| Fan  Temp  Perf  Pwr:Usage/Cap|         Memory-Usage | GPU-Util  Compute M. |\n",
      "|===============================+======================+======================|\n",
      "|   0  Tesla V100-SXM2...  On   | 00000000:00:1E.0 Off |                    0 |\n",
      "| N/A   42C    P0    24W / 300W |      0MiB / 16160MiB |      0%      Default |\n",
      "+-------------------------------+----------------------+----------------------+\n",
      "                                                                               \n",
      "+-----------------------------------------------------------------------------+\n",
      "| Processes:                                                       GPU Memory |\n",
      "|  GPU       PID   Type   Process name                             Usage      |\n",
      "|=============================================================================|\n",
      "|  No running processes found                                                 |\n",
      "+-----------------------------------------------------------------------------+\n"
     ]
    }
   ],
   "source": [
    "!nvidia-smi"
   ]
  },
  {
   "cell_type": "markdown",
   "metadata": {},
   "source": [
    "As you can see almost no GPU memory is being used right now, and, there are no active processes utilizing the GPUs. Throughout the lab you can use this command to keep an eye on memory usage."
   ]
  },
  {
   "cell_type": "markdown",
   "metadata": {},
   "source": [
    "### Watching `nvidia-smi`"
   ]
  },
  {
   "cell_type": "markdown",
   "metadata": {},
   "source": [
    "Use the Jupyter *File* menu and run *New Laucher*. When prompted, select a new terminal. Once this terminal opens, issue the command `watch -n 1 nvidia-smi`. This will call and present the output of `nvidia-smi` every second, and provide you with a handy way to check in on memory usage throughout the workshop."
   ]
  },
  {
   "cell_type": "markdown",
   "metadata": {},
   "source": [
    "## Jupyter Kernels"
   ]
  },
  {
   "cell_type": "markdown",
   "metadata": {},
   "source": [
    "The compute backend for Jupyter (as opposed to this web front-end you are viewing) is called the *kernel*. It may be the case while programming that you do something resulting in a kernel freeze or crash. You can interupt or restart the kernel at anytime using Jupyter's *Kernel* menu. Check it out now to familiarize yourself with it."
   ]
  },
  {
   "cell_type": "markdown",
   "metadata": {},
   "source": [
    "### Restarting Kernel at the End of Notebooks"
   ]
  },
  {
   "cell_type": "markdown",
   "metadata": {},
   "source": [
    "There are many small notebooks that you will be working through in this workshop, and our intent is for you to start with clean GPU memory and namespace for each kernel. With that in mind, we will ask you to restart the kernel at the end of every notebook, to clear the stage for the next.\n",
    "\n",
    "Although you have not done any computing yet, execute the cell below (or use the *Kernel* menu) now to restart the kernel before proceeding to the next notebook."
   ]
  },
  {
   "cell_type": "code",
   "execution_count": 3,
   "metadata": {},
   "outputs": [
    {
     "data": {
      "text/plain": [
       "{'status': 'ok', 'restart': True}"
      ]
     },
     "execution_count": 3,
     "metadata": {},
     "output_type": "execute_result"
    }
   ],
   "source": [
    "import IPython\n",
    "IPython.Application.instance().kernel.do_shutdown(True)"
   ]
  }
 ],
 "metadata": {
  "kernelspec": {
   "display_name": "Python 3",
   "language": "python",
   "name": "python3"
  },
  "language_info": {
   "codemirror_mode": {
    "name": "ipython",
    "version": 3
   },
   "file_extension": ".py",
   "mimetype": "text/x-python",
   "name": "python",
   "nbconvert_exporter": "python",
   "pygments_lexer": "ipython3",
   "version": "3.6.9"
  }
 },
 "nbformat": 4,
 "nbformat_minor": 4
}
